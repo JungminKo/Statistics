{
 "cells": [
  {
   "cell_type": "code",
   "execution_count": 1,
   "id": "1d8c5ec9",
   "metadata": {},
   "outputs": [
    {
     "data": {
      "text/plain": [
       "5.25"
      ]
     },
     "execution_count": 1,
     "metadata": {},
     "output_type": "execute_result"
    }
   ],
   "source": [
    "25*0.3*0.7"
   ]
  },
  {
   "cell_type": "code",
   "execution_count": 13,
   "id": "2be2b93e",
   "metadata": {},
   "outputs": [
    {
     "data": {
      "text/plain": [
       "3.4641016151377544"
      ]
     },
     "execution_count": 13,
     "metadata": {},
     "output_type": "execute_result"
    }
   ],
   "source": [
    "import numpy as np\n",
    "np.sqrt(12)"
   ]
  },
  {
   "cell_type": "code",
   "execution_count": 7,
   "id": "4f7dc687",
   "metadata": {},
   "outputs": [
    {
     "data": {
      "text/plain": [
       "(0.8728669314363025, -0.8728669314363025)"
      ]
     },
     "execution_count": 7,
     "metadata": {},
     "output_type": "execute_result"
    }
   ],
   "source": [
    "mean = 7.5\n",
    "sqrt = 2.2913\n",
    "\n",
    "(9.5-mean)/sqrt, (5.5-mean)/sqrt"
   ]
  },
  {
   "cell_type": "code",
   "execution_count": 8,
   "id": "59ef32db",
   "metadata": {},
   "outputs": [
    {
     "data": {
      "text/plain": [
       "37.5"
      ]
     },
     "execution_count": 8,
     "metadata": {},
     "output_type": "execute_result"
    }
   ],
   "source": [
    "50*0.75"
   ]
  },
  {
   "cell_type": "code",
   "execution_count": 10,
   "id": "8fa3b0e2",
   "metadata": {},
   "outputs": [
    {
     "data": {
      "text/plain": [
       "1.1"
      ]
     },
     "execution_count": 10,
     "metadata": {},
     "output_type": "execute_result"
    }
   ],
   "source": [
    "(55.5 - 50)/5 "
   ]
  },
  {
   "cell_type": "code",
   "execution_count": 11,
   "id": "2955c63b",
   "metadata": {},
   "outputs": [
    {
     "data": {
      "text/plain": [
       "-1.1"
      ]
     },
     "execution_count": 11,
     "metadata": {},
     "output_type": "execute_result"
    }
   ],
   "source": [
    "(44.5 - 50)/5 "
   ]
  },
  {
   "cell_type": "code",
   "execution_count": 12,
   "id": "43aa49b5",
   "metadata": {},
   "outputs": [
    {
     "data": {
      "text/plain": [
       "20.0"
      ]
     },
     "execution_count": 12,
     "metadata": {},
     "output_type": "execute_result"
    }
   ],
   "source": [
    "50*0.4"
   ]
  },
  {
   "cell_type": "code",
   "execution_count": 17,
   "id": "d3db4daf",
   "metadata": {},
   "outputs": [
    {
     "data": {
      "text/plain": [
       "2.5980774227071963"
      ]
     },
     "execution_count": 17,
     "metadata": {},
     "output_type": "execute_result"
    }
   ],
   "source": [
    "mean = 20\n",
    "sqrt = 3.4641\n",
    "\n",
    "(29-mean)/sqrt"
   ]
  },
  {
   "cell_type": "code",
   "execution_count": null,
   "id": "160fb998",
   "metadata": {},
   "outputs": [],
   "source": []
  }
 ],
 "metadata": {
  "kernelspec": {
   "display_name": "pytorch",
   "language": "python",
   "name": "pytor"
  },
  "language_info": {
   "codemirror_mode": {
    "name": "ipython",
    "version": 3
   },
   "file_extension": ".py",
   "mimetype": "text/x-python",
   "name": "python",
   "nbconvert_exporter": "python",
   "pygments_lexer": "ipython3",
   "version": "3.7.6"
  }
 },
 "nbformat": 4,
 "nbformat_minor": 5
}
