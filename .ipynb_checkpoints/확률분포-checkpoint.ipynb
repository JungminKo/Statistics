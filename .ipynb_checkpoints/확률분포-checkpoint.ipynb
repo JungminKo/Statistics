{
 "cells": [
  {
   "cell_type": "markdown",
   "id": "20521b9a",
   "metadata": {},
   "source": [
    "# 이항분포"
   ]
  },
  {
   "cell_type": "code",
   "execution_count": 1,
   "id": "9f1790f8",
   "metadata": {},
   "outputs": [],
   "source": [
    "from scipy.stats import binom"
   ]
  },
  {
   "cell_type": "code",
   "execution_count": 12,
   "id": "cebf109d",
   "metadata": {},
   "outputs": [
    {
     "data": {
      "text/plain": [
       "0.002893025268524272"
      ]
     },
     "execution_count": 12,
     "metadata": {},
     "output_type": "execute_result"
    }
   ],
   "source": [
    "binom.pmf(k=35, n=200, p=0.25)"
   ]
  },
  {
   "cell_type": "code",
   "execution_count": 30,
   "id": "10dae975",
   "metadata": {},
   "outputs": [
    {
     "data": {
      "text/plain": [
       "0.9999575336129427"
      ]
     },
     "execution_count": 30,
     "metadata": {},
     "output_type": "execute_result"
    }
   ],
   "source": [
    "binom.cdf(k=59, n=100, p=0.4)"
   ]
  },
  {
   "cell_type": "code",
   "execution_count": 15,
   "id": "821087da",
   "metadata": {},
   "outputs": [
    {
     "data": {
      "text/plain": [
       "0.32921810694650183"
      ]
     },
     "execution_count": 15,
     "metadata": {},
     "output_type": "execute_result"
    }
   ],
   "source": [
    "binom.pmf(k=2, n=6, p=0.33333)"
   ]
  },
  {
   "cell_type": "code",
   "execution_count": 16,
   "id": "93d810dd",
   "metadata": {},
   "outputs": [
    {
     "data": {
      "text/plain": [
       "0.3455999999999997"
      ]
     },
     "execution_count": 16,
     "metadata": {},
     "output_type": "execute_result"
    }
   ],
   "source": [
    "binom.pmf(k=3, n=5, p=0.6)"
   ]
  },
  {
   "cell_type": "code",
   "execution_count": 20,
   "id": "61e7468e",
   "metadata": {},
   "outputs": [
    {
     "data": {
      "text/plain": [
       "0.9905236393084934"
      ]
     },
     "execution_count": 20,
     "metadata": {},
     "output_type": "execute_result"
    }
   ],
   "source": [
    "binom.cdf(k=6, n=25, p=0.1)"
   ]
  },
  {
   "cell_type": "code",
   "execution_count": 22,
   "id": "0d66cc2a",
   "metadata": {},
   "outputs": [
    {
     "data": {
      "text/plain": [
       "0.22649730750223063"
      ]
     },
     "execution_count": 22,
     "metadata": {},
     "output_type": "execute_result"
    }
   ],
   "source": [
    "binom.pmf(k=3, n=25, p=0.1)"
   ]
  },
  {
   "cell_type": "code",
   "execution_count": 25,
   "id": "625032d7",
   "metadata": {},
   "outputs": [
    {
     "data": {
      "text/plain": [
       "0.08502504994899993"
      ]
     },
     "execution_count": 25,
     "metadata": {},
     "output_type": "execute_result"
    }
   ],
   "source": [
    "binom.cdf(k=1, n=12, p=0.3)"
   ]
  },
  {
   "cell_type": "code",
   "execution_count": 28,
   "id": "00bfb92f",
   "metadata": {},
   "outputs": [
    {
     "data": {
      "text/plain": [
       "0.4464763792105427"
      ]
     },
     "execution_count": 28,
     "metadata": {},
     "output_type": "execute_result"
    }
   ],
   "source": [
    "binom.cdf(k=19, n=50, p=0.4)"
   ]
  },
  {
   "cell_type": "code",
   "execution_count": 29,
   "id": "4ff89fea",
   "metadata": {},
   "outputs": [
    {
     "data": {
      "text/plain": [
       "0.9966396177369773"
      ]
     },
     "execution_count": 29,
     "metadata": {},
     "output_type": "execute_result"
    }
   ],
   "source": [
    "binom.cdf(k=29, n=50, p=0.4)"
   ]
  },
  {
   "cell_type": "code",
   "execution_count": 5,
   "id": "610665a4",
   "metadata": {},
   "outputs": [
    {
     "data": {
      "text/plain": [
       "0.16794021624755015"
      ]
     },
     "execution_count": 5,
     "metadata": {},
     "output_type": "execute_result"
    }
   ],
   "source": [
    "binom.cdf(k=10, n=92, p=0.15)"
   ]
  },
  {
   "cell_type": "code",
   "execution_count": 8,
   "id": "4efca2b4",
   "metadata": {},
   "outputs": [
    {
     "data": {
      "text/plain": [
       "0.3762504767487046"
      ]
     },
     "execution_count": 8,
     "metadata": {},
     "output_type": "execute_result"
    }
   ],
   "source": [
    "binom.cdf(k=20, n=92, p=0.15) - binom.cdf(k=14, n=92, p=0.15)"
   ]
  },
  {
   "cell_type": "code",
   "execution_count": 10,
   "id": "f871ea79",
   "metadata": {},
   "outputs": [
    {
     "data": {
      "text/plain": [
       "1.0"
      ]
     },
     "execution_count": 10,
     "metadata": {},
     "output_type": "execute_result"
    }
   ],
   "source": [
    "binom.cdf(k=80, n=92, p=0.15)"
   ]
  },
  {
   "cell_type": "code",
   "execution_count": 8,
   "id": "b2909689",
   "metadata": {},
   "outputs": [
    {
     "data": {
      "text/plain": [
       "0.6170755344069897"
      ]
     },
     "execution_count": 8,
     "metadata": {},
     "output_type": "execute_result"
    }
   ],
   "source": [
    "binom.cdf(k=9, n=25, p=0.3) - binom.cdf(k=5, n=25, p=0.3)"
   ]
  },
  {
   "cell_type": "code",
   "execution_count": null,
   "id": "2d67c0fa",
   "metadata": {},
   "outputs": [],
   "source": []
  },
  {
   "cell_type": "markdown",
   "id": "193ac41a",
   "metadata": {},
   "source": [
    "# 정규분포"
   ]
  },
  {
   "cell_type": "code",
   "execution_count": 34,
   "id": "e978b5bb",
   "metadata": {},
   "outputs": [],
   "source": [
    "from scipy.stats import norm"
   ]
  },
  {
   "cell_type": "code",
   "execution_count": 35,
   "id": "ba7bfbd2",
   "metadata": {},
   "outputs": [],
   "source": [
    "rv = norm(loc=0, scale=1)"
   ]
  },
  {
   "cell_type": "code",
   "execution_count": 10,
   "id": "f56b7b84",
   "metadata": {},
   "outputs": [
    {
     "data": {
      "text/plain": [
       "0.6172643874583446"
      ]
     },
     "execution_count": 10,
     "metadata": {},
     "output_type": "execute_result"
    }
   ],
   "source": [
    "rv.cdf(0.8728669314363025) - rv.cdf( -0.8728669314363025)"
   ]
  },
  {
   "cell_type": "code",
   "execution_count": 37,
   "id": "1cc7f543",
   "metadata": {},
   "outputs": [
    {
     "data": {
      "text/plain": [
       "0.9999366575163338"
      ]
     },
     "execution_count": 37,
     "metadata": {},
     "output_type": "execute_result"
    }
   ],
   "source": [
    "\n",
    "rv.cdf(4) - rv.cdf( -4)"
   ]
  },
  {
   "cell_type": "code",
   "execution_count": 36,
   "id": "c525943f",
   "metadata": {},
   "outputs": [
    {
     "data": {
      "text/plain": [
       "0.9999656002987808"
      ]
     },
     "execution_count": 36,
     "metadata": {},
     "output_type": "execute_result"
    }
   ],
   "source": [
    "rv.cdf(3.9804)"
   ]
  },
  {
   "cell_type": "code",
   "execution_count": 37,
   "id": "5e10e373",
   "metadata": {},
   "outputs": [
    {
     "data": {
      "text/plain": [
       "0.9969504919494432"
      ]
     },
     "execution_count": 37,
     "metadata": {},
     "output_type": "execute_result"
    }
   ],
   "source": [
    "rv.cdf(2.7424)"
   ]
  },
  {
   "cell_type": "code",
   "execution_count": 32,
   "id": "162b28ea",
   "metadata": {},
   "outputs": [
    {
     "data": {
      "text/plain": [
       "3.9804041641151255"
      ]
     },
     "execution_count": 32,
     "metadata": {},
     "output_type": "execute_result"
    }
   ],
   "source": [
    "mean = 40\n",
    "sqrt = 4.8990\n",
    "\n",
    "(59.5-mean)/sqrt"
   ]
  },
  {
   "cell_type": "markdown",
   "id": "974f873d",
   "metadata": {},
   "source": [
    "# 다항분포"
   ]
  },
  {
   "cell_type": "code",
   "execution_count": 6,
   "id": "cb396069",
   "metadata": {},
   "outputs": [],
   "source": [
    "from scipy.stats import multinomial"
   ]
  },
  {
   "cell_type": "code",
   "execution_count": 7,
   "id": "adf943e4",
   "metadata": {},
   "outputs": [],
   "source": [
    "mu = [0.16, 0.25, 0.16, 0.29, 0.14]\n",
    "rv = multinomial(5, mu)"
   ]
  },
  {
   "cell_type": "code",
   "execution_count": 10,
   "id": "d0f8b96e",
   "metadata": {},
   "outputs": [
    {
     "data": {
      "text/plain": [
       "0.025229999999999985"
      ]
     },
     "execution_count": 10,
     "metadata": {},
     "output_type": "execute_result"
    }
   ],
   "source": [
    "rv.pmf([1, 2, 0, 2, 0])"
   ]
  },
  {
   "cell_type": "code",
   "execution_count": 17,
   "id": "a10c6147",
   "metadata": {},
   "outputs": [
    {
     "data": {
      "text/plain": [
       "0.7272727272727273"
      ]
     },
     "execution_count": 17,
     "metadata": {},
     "output_type": "execute_result"
    }
   ],
   "source": [
    "8/11"
   ]
  },
  {
   "cell_type": "code",
   "execution_count": 18,
   "id": "2b6b93a6",
   "metadata": {},
   "outputs": [
    {
     "data": {
      "text/plain": [
       "1980"
      ]
     },
     "execution_count": 18,
     "metadata": {},
     "output_type": "execute_result"
    }
   ],
   "source": [
    " 2*11*10*9"
   ]
  },
  {
   "cell_type": "code",
   "execution_count": 19,
   "id": "6e8e631b",
   "metadata": {},
   "outputs": [
    {
     "data": {
      "text/plain": [
       "0.000505050505050505"
      ]
     },
     "execution_count": 19,
     "metadata": {},
     "output_type": "execute_result"
    }
   ],
   "source": [
    "1/1980"
   ]
  },
  {
   "cell_type": "code",
   "execution_count": 20,
   "id": "9a21eb6a",
   "metadata": {},
   "outputs": [
    {
     "data": {
      "text/plain": [
       "0.45454545454545453"
      ]
     },
     "execution_count": 20,
     "metadata": {},
     "output_type": "execute_result"
    }
   ],
   "source": [
    "5/11"
   ]
  },
  {
   "cell_type": "code",
   "execution_count": 31,
   "id": "840a1b7b",
   "metadata": {},
   "outputs": [
    {
     "data": {
      "text/plain": [
       "4.898979485566356"
      ]
     },
     "execution_count": 31,
     "metadata": {},
     "output_type": "execute_result"
    }
   ],
   "source": [
    "import numpy as np\n",
    "np.sqrt(24)"
   ]
  },
  {
   "cell_type": "code",
   "execution_count": 25,
   "id": "69129593",
   "metadata": {},
   "outputs": [
    {
     "data": {
      "text/plain": [
       "14.899000000000001"
      ]
     },
     "execution_count": 25,
     "metadata": {},
     "output_type": "execute_result"
    }
   ],
   "source": [
    "2.4495*2 + 10"
   ]
  },
  {
   "cell_type": "code",
   "execution_count": 24,
   "id": "d06bc100",
   "metadata": {},
   "outputs": [
    {
     "data": {
      "text/plain": [
       "5.101"
      ]
     },
     "execution_count": 24,
     "metadata": {},
     "output_type": "execute_result"
    }
   ],
   "source": [
    "-2.4495*2 + 10"
   ]
  },
  {
   "cell_type": "code",
   "execution_count": 26,
   "id": "b9fc8312",
   "metadata": {},
   "outputs": [
    {
     "data": {
      "text/plain": [
       "9.797999999999998"
      ]
     },
     "execution_count": 26,
     "metadata": {},
     "output_type": "execute_result"
    }
   ],
   "source": [
    "14.899-5.101"
   ]
  },
  {
   "cell_type": "code",
   "execution_count": null,
   "id": "682c176f",
   "metadata": {},
   "outputs": [],
   "source": []
  }
 ],
 "metadata": {
  "kernelspec": {
   "display_name": "pytorch",
   "language": "python",
   "name": "pytor"
  },
  "language_info": {
   "codemirror_mode": {
    "name": "ipython",
    "version": 3
   },
   "file_extension": ".py",
   "mimetype": "text/x-python",
   "name": "python",
   "nbconvert_exporter": "python",
   "pygments_lexer": "ipython3",
   "version": "3.7.6"
  }
 },
 "nbformat": 4,
 "nbformat_minor": 5
}
